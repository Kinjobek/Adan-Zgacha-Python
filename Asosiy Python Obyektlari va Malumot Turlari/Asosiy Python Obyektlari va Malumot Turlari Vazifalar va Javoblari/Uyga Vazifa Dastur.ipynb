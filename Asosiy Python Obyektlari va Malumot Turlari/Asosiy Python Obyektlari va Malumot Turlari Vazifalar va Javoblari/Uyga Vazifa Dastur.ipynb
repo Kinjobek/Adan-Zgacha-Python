{
 "cells": [
  {
   "cell_type": "markdown",
   "metadata": {},
   "source": [
    "## Dastur yozing, Uyga Vazifa - Asosiy Python Obyektlari va Malumot Shakllari\n",
    "\n",
    "*Tabriklayman! Boʻlimni muvoffaqqiyatli tamomladingiz. Endi, oʻrganganlaringiz aqlda qolishi uchun uyga vazifalarni bajarish vaqti!*"
   ]
  },
  {
   "cell_type": "markdown",
   "metadata": {},
   "source": [
    "### Masala 1\n",
    "\n",
    "Foydalanuvchidan olingan 3 dona sonni koʻpaytirib ekranga yozdiring. Ekranga yozdirish amaliyoti ***format*** usuli bilan amalga oshiring."
   ]
  },
  {
   "cell_type": "markdown",
   "metadata": {},
   "source": [
    "### Masala 2\n",
    "\n",
    "Foydalanuvchidan olingan **boʻy** va **vazn** qiymatlariga koʻra foydalanuvchining vujud indeksini toping.\n",
    "\n",
    "*Vujut Indekisi :  Vazn / Boʻy(m) * Boʻy(m)"
   ]
  },
  {
   "cell_type": "markdown",
   "metadata": {},
   "source": [
    "### Masala 3 \n",
    "\n",
    "Bir avtoulovning har km'da qancha sarf qilgani va necha km yoʻl bosgani malumotlarini oling va haydovchining umumiy qancha toʻlashi kerakligini hisoblang."
   ]
  },
  {
   "cell_type": "markdown",
   "metadata": {},
   "source": [
    "### Masala 4\n",
    "\n",
    "Foydalanuvchidan isim,familiya va nomer malumotini oling va bularni ustma past ekrenga yozdiring."
   ]
  },
  {
   "cell_type": "markdown",
   "metadata": {},
   "source": [
    "### Masala 5 \n",
    "\n",
    "Foydalanuvchidan ikki dona son istang va bu sonlarning qiymatlarini oʻzaro almashtiring."
   ]
  },
  {
   "cell_type": "markdown",
   "metadata": {},
   "source": [
    "### Masala 6\n",
    "\n",
    "Foydalanuvchidan toʻgʻri burchakli uchuburchakning katetlarini (a,b) oling va gipotenuza uzunligini hisoblang.\n",
    "\n",
    "Pifagor Formulasi: a^2 + b^2 = c^2"
   ]
  }
 ],
 "metadata": {
  "kernelspec": {
   "display_name": "Python 3",
   "language": "python",
   "name": "python3"
  },
  "language_info": {
   "codemirror_mode": {
    "name": "ipython",
    "version": 3
   },
   "file_extension": ".py",
   "mimetype": "text/x-python",
   "name": "python",
   "nbconvert_exporter": "python",
   "pygments_lexer": "ipython3",
   "version": "3.6.1"
  }
 },
 "nbformat": 4,
 "nbformat_minor": 2
}